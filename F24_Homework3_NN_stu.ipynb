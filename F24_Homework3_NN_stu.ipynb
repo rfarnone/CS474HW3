{
 "cells": [
  {
   "cell_type": "markdown",
   "metadata": {},
   "source": [
    "## Homework 3: Implement NN from Scratch"
   ]
  },
  {
   "cell_type": "code",
   "execution_count": 1,
   "metadata": {
    "tags": []
   },
   "outputs": [],
   "source": [
    "import numpy as np\n",
    "import pandas as pd\n",
    "from matplotlib import pyplot as plt\n",
    "from sklearn.model_selection import train_test_split"
   ]
  },
  {
   "cell_type": "markdown",
   "metadata": {},
   "source": [
    "#### Load the dataset"
   ]
  },
  {
   "cell_type": "code",
   "execution_count": 2,
   "metadata": {
    "tags": []
   },
   "outputs": [
    {
     "name": "stdout",
     "output_type": "stream",
     "text": [
      "Data shape: X: (4898, 11) Y: (4898,)\n",
      "(3428, 11) (1470, 11)\n",
      "(3428, 1) (1470, 1)\n"
     ]
    }
   ],
   "source": [
    "df=pd.read_csv('winequality-white.csv', sep = ';')\n",
    "X = df.values[:, :11]\n",
    "Y = df.values[:, 11]\n",
    "print('Data shape:', 'X:', X.shape, 'Y:', Y.shape)\n",
    "\n",
    "# data normalization\n",
    "min_vals = np.min(X, axis = 0)\n",
    "max_vals = np.max(X, axis = 0)\n",
    "X = (X-min_vals)/(max_vals-min_vals) \n",
    "\n",
    "# train set and test set preparation\n",
    "X_train, X_test, y_train, y_test = train_test_split(X, Y, test_size = 0.3, random_state = 0)\n",
    "y_train =  np.expand_dims(y_train, axis=1)\n",
    "y_test =  np.expand_dims(y_test, axis=1)\n",
    "print(X_train.shape, X_test.shape)\n",
    "print(y_train.shape, y_test.shape)"
   ]
  },
  {
   "cell_type": "markdown",
   "metadata": {},
   "source": [
    "#### Task 1: Activation functions. 5 points\n",
    "\n",
    "1.1 Implement the ReLU function. "
   ]
  },
  {
   "cell_type": "code",
   "execution_count": 3,
   "metadata": {
    "tags": []
   },
   "outputs": [
    {
     "name": "stdout",
     "output_type": "stream",
     "text": [
      "softmax output:\n",
      " [[0.04712342 0.94649912 0.00637746]\n",
      " [0.49938108 0.00123784 0.49938108]]\n",
      "ReLU output:\n",
      " [[0 2 0]\n",
      " [4 0 4]]\n"
     ]
    }
   ],
   "source": [
    "def sigm(z):\n",
    "    return 1/(1 + np.exp(-z))\n",
    "\n",
    "def dsigm(z):\n",
    "    return sigm(z)*(1 - sigm(z))\n",
    "\n",
    "def softmax(z):\n",
    "    '''   \n",
    "        parameter: z: m_batch * n_features\n",
    "        return: m_batch * n_features\n",
    "            \n",
    "    '''\n",
    "    b = np.exp(z - np.max(z, axis = 1, keepdims = True))# np.max(z)\n",
    "    return b / np.sum(b, axis = 1, keepdims = True)\n",
    "\n",
    "\n",
    "def ReLU(z):\n",
    "    ''' The ReLU function\n",
    "    \n",
    "        parameter:\n",
    "            z: m_batch * n_features\n",
    "        return: m_batch * n_features\n",
    "            \n",
    "    '''\n",
    "    #-----add your code here----\n",
    "\n",
    "    return np.maximum(0, z)\n",
    "    \n",
    "    #-------------------------\n",
    "    \n",
    "z = np.array([[-1, 2, -3], [4, -2, 4]])\n",
    "print('softmax output:\\n', softmax(z))\n",
    "print('ReLU output:\\n', ReLU(z))"
   ]
  },
  {
   "cell_type": "markdown",
   "metadata": {},
   "source": [
    "#### Task 2: Create the lalyer class. 25 points\n",
    "\n",
    "    2.1 Implement the Xavier initialization to initilize W and bias. 10 points\n",
    "    2.2 Complete the run function. 5 points\n",
    "    2.3 Create layers and process data samples. 10 poits"
   ]
  },
  {
   "cell_type": "code",
   "execution_count": 4,
   "metadata": {
    "tags": []
   },
   "outputs": [],
   "source": [
    "class Layer:\n",
    "   \n",
    "    def __init__(self, units, input_dim, activation = None): \n",
    "        #Student can use any method. But cannot initialize W and bias as zeros.\n",
    "\n",
    "        self.units = units\n",
    "        self.activation = activation\n",
    "        self.input_dim = input_dim\n",
    "        \n",
    "        np.random.seed(0)\n",
    "        \n",
    "        # 2.1 Implement the Xavier initialization to initilize W and bias \n",
    "        #check here: https://www.deeplearning.ai/ai-notes/initialization/\n",
    "        ## add you code here-------------\n",
    " \n",
    "        limit = np.sqrt(6 / (input_dim + units))\n",
    "        self.W = np.random.uniform(-limit, limit, (units, input_dim))\n",
    "        \n",
    "        self.b = np.full((units, 1), 0.01)\n",
    "        \n",
    "        ##----------------------\n",
    "        \n",
    "        self.gW = np.zeros((units, input_dim))\n",
    "        self.gb = np.zeros((units,1))\n",
    "        \n",
    "    def run(self, inputs):\n",
    "        ''' calculate the net input and activation output of the current layer\n",
    "        \n",
    "            inputs=(n_sample * n_features)\n",
    "          \n",
    "            return the activation output\n",
    "        '''\n",
    "        #calculate the net input\n",
    "        \n",
    "        self.net = np.dot(inputs, self.W.T) + self.b.T\n",
    "       \n",
    "        #2.2 activation output \n",
    "        ## add you code here--------\n",
    "\n",
    "        if self.activation == 'sigmoid':\n",
    "            self.output = sigm(self.net)\n",
    "        elif self.activation == 'ReLU':\n",
    "            self.output = ReLU(self.net)\n",
    "        elif self.activation == 'softmax':\n",
    "            self.output = softmax(self.net)\n",
    "        elif self.activation is None:\n",
    "            self.output = self.net\n",
    "        else:\n",
    "            raise ValueError(\"Unsupported activation function\")\n",
    "        \n",
    "        ##------------------------------     \n",
    "        return self.output"
   ]
  },
  {
   "cell_type": "code",
   "execution_count": 5,
   "metadata": {
    "tags": []
   },
   "outputs": [
    {
     "name": "stdout",
     "output_type": "stream",
     "text": [
      "Linear layer output for the first two samples:\n",
      " [[0.36462105 0.24630713]\n",
      " [0.75257756 1.08837935]]\n",
      "Non-linear layer (sigmoid) output for the first two samples:\n",
      " [[0.54572851 0.53217071]\n",
      " [0.66232525 0.57910358]]\n"
     ]
    }
   ],
   "source": [
    "## 2.3 create a liner and non-linear layers with 2 nodes/units, input the first two training samples, and print the output\n",
    "\n",
    "#add your code here----------------------\n",
    "# create a linear layer with 2 nodes/units and print out for processing the first two samples\n",
    "\n",
    "linear_layer = Layer(units=2, input_dim=X_train.shape[1], activation=None)\n",
    "linear_output = linear_layer.run(X_train[:2])\n",
    "print(\"Linear layer output for the first two samples:\\n\", linear_output)\n",
    "\n",
    "# create a non-linear layers with 2 nodes/units and the sigmoid activation and print out for processing the first two samples\n",
    "\n",
    "non_linear_layer = Layer(units=2, input_dim=linear_layer.units, activation='sigmoid')\n",
    "non_linear_output = non_linear_layer.run(linear_output)\n",
    "print(\"Non-linear layer (sigmoid) output for the first two samples:\\n\", non_linear_output)\n",
    "\n",
    "#----------------------------------"
   ]
  },
  {
   "cell_type": "markdown",
   "metadata": {},
   "source": [
    "#### Task 3: Create NN. 50 points\n",
    "\n",
    "    3.1 Implement the loss function. 5 points\n",
    "    3.2 Complete the following 'train' function. 10 points\n",
    "    3.3 Implement the BP algorithm. CS 474 students will earn 10 extra points for processing more than three layers. It is required for CS574 students to implement BP for processing more than 3 layers. 30 points\n",
    "    3.4 update all weights and bias. 5 points "
   ]
  },
  {
   "cell_type": "code",
   "execution_count": 6,
   "metadata": {
    "tags": []
   },
   "outputs": [],
   "source": [
    "class NeuralNetwork:\n",
    "    \n",
    "    def __init__(self):\n",
    "        self.layers=[] #list of layers\n",
    "        \n",
    "    def add(self, units, input_dim, activation = None):\n",
    "        '''add layers to NN\n",
    "            \n",
    "            units: the number of nodes\n",
    "            input_dims: input dimensions\n",
    "            activation: activation fundtions\n",
    "        \n",
    "        '''\n",
    "        layer = Layer(units, input_dim, activation)\n",
    "        self.layers.append(layer)\n",
    "    \n",
    "    def forward_prop(self, inputs):\n",
    "        '''forward propagation calculates net input and output for each layer\n",
    "        \n",
    "            inputs: input data(n_samples * n_features)\n",
    "            return the output of the last layer: n_samples * n_output_nodes\n",
    "            \n",
    "        '''\n",
    "        \n",
    "        nLayers = len(self.layers)\n",
    "        #print(nLayers)\n",
    "        for i in range(nLayers):\n",
    "            out = self.layers[i].run(inputs)\n",
    "            inputs = out   \n",
    "        return out\n",
    "    \n",
    "    # 3.1 implement the loss function. 5 points\n",
    "    def loss(self, y_pred, y):\n",
    "        '''loss function: 1/(2*n_samples)*sum_samples((y_i-y_pred_i)**2)\n",
    "            y_pred: predictions(n_samples * 1)\n",
    "            y: target(n_samples * 1)\n",
    "        '''\n",
    "        #add your code here-------------------\n",
    "\n",
    "        n_samples = y.shape[0]\n",
    "        loss_value = (1 / (2 * n_samples)) * np.sum((y - y_pred) ** 2)\n",
    "        return loss_value\n",
    "        \n",
    "        #------------------------------------\n",
    "    \n",
    "    # implement the prediction function.\n",
    "    def predict(self, x):\n",
    "        '''predict\n",
    "            x: input(n_samples * n_features) \n",
    "            return predicted values\n",
    "        '''\n",
    "        out = self.forward_prop(x)\n",
    "        return out\n",
    "         \n",
    "\n",
    "    #3.2 complete the following 'train' function. 10 points\n",
    "    def train(self, inputs, targets, lr = 0.001, batch_size = 32, epochs = 50):\n",
    "        '''implement the SGD process and use Back-Propagation algorithm to calculate gradients \n",
    "        \n",
    "            inputs: training samples\n",
    "            targets: training targets\n",
    "            lr: learning rate\n",
    "            batch_size: batch size\n",
    "            epochs: max number of epochs\n",
    "        '''\n",
    "        \n",
    "        m = len(targets)  \n",
    "        loss_hist = np.zeros(epochs)\n",
    "        \n",
    "        for i in range(epochs):\n",
    "            #shuffle the data\n",
    "            idx = np.arange(m)\n",
    "            np.random.shuffle(idx)\n",
    "            inputs = inputs[idx]\n",
    "            targets = targets[idx]\n",
    "            \n",
    "            for b in range(int(m/batch_size)):\n",
    "                b_start= b*batch_size\n",
    "                b_end = min((b+1)*batch_size, m)\n",
    "                \n",
    "                x_batch = inputs[b_start:b_end, :]\n",
    "                y_batch = targets[b_start:b_end, :]\n",
    "                #print(x_batch.shape)\n",
    "                \n",
    "                #add your code here------------------------------\n",
    "                # 1)run forward propagation to get output of the current mini-batch\n",
    "\n",
    "                y_pred = self.forward_prop(x_batch)\n",
    "                \n",
    "                # 2)call BP to calculate all gradients\n",
    "\n",
    "                self.BP(x_batch, y_batch)\n",
    "                \n",
    "                # 3)update all weights and bias\n",
    "\n",
    "                self.updateWeights(lr)\n",
    "                \n",
    "                #-------------------------------------------------\n",
    "                \n",
    "            lr = lr*0.99  \n",
    "            #add your code here---------------------------\n",
    "            # 4) calculate and record the loss of current epoch\n",
    "\n",
    "            loss_hist[i] = self.loss(y_pred, y_batch)\n",
    "\n",
    "            # 5) print out the loss of current epoch\n",
    "\n",
    "            print(f'Epoch {i+1}/{epochs}, Loss: {loss_hist[i]:.4f}')\n",
    "\n",
    "            #-----------------------------------------\n",
    "        return loss_hist\n",
    "   \n",
    "    #3.3 implement the BP algorithm. 30 points\n",
    "    def BP(self, x, y):\n",
    "        ''' Back-propagation algorithm\n",
    "        \n",
    "            x: input samples (n_samples * n_features)\n",
    "            y: predicted values\n",
    "        '''\n",
    "        \n",
    "        nLayers = len(self.layers)\n",
    "        m_batch = x.shape[0]\n",
    "        \n",
    "        #add your code here------------------------------------\n",
    "        # CS474 students are required to perform BP for three layers\n",
    "        # CS 574 students are required to perform BP for more than three layers\n",
    "\n",
    "        output_layer = self.layers[-1]\n",
    "        output_error = output_layer.output - y\n",
    "        output_gradient = output_error / m_batch\n",
    "\n",
    "        # For the last layer\n",
    "        output_layer.gb = np.sum(output_gradient, axis=0, keepdims=True).T\n",
    "        output_layer.gW = np.dot(output_gradient.T, self.layers[-2].output)  # gradient wrt weights\n",
    "        \n",
    "        # Backpropagate through the network\n",
    "        for i in range(nLayers - 2, -1, -1):\n",
    "            layer = self.layers[i]\n",
    "            if layer.activation == 'sigmoid':\n",
    "                grad = dsigm(layer.net)\n",
    "            elif layer.activation == 'ReLU':\n",
    "                grad = (layer.net > 0).astype(float)  # derivative of ReLU\n",
    "            else:\n",
    "                grad = np.ones_like(layer.net)  # for linear layers\n",
    "            \n",
    "            # Calculate the error for the current layer\n",
    "            layer_error = np.dot(output_gradient, output_layer.W) * grad\n",
    "            \n",
    "            # Update gradients for the current layer\n",
    "            layer.gb = np.sum(layer_error, axis=0, keepdims=True).T\n",
    "            if i > 0:\n",
    "                layer.gW = np.dot(layer_error.T, self.layers[i - 1].output)\n",
    "            \n",
    "            # Prepare the output_error for the next layer\n",
    "            output_gradient = layer_error\n",
    "\n",
    "        #------------------------------------------------------------\n",
    "        \n",
    "    #3.4 update all weights and bias. 5 points         \n",
    "    def updateWeights(self, lr):\n",
    "        nLayers = len(self.layers)\n",
    "        #add your code here------------------------------------------------------\n",
    "\n",
    "        for layer in self.layers:\n",
    "            layer.W -= lr * layer.gW\n",
    "            layer.b -= lr * layer.gb\n",
    "        \n",
    "        #------------------------------------------------------------------------       "
   ]
  },
  {
   "cell_type": "markdown",
   "metadata": {},
   "source": [
    "#### Task 4: Evaluation. 20 points\n",
    "\n",
    "    4.1 Create a three-layer NN: The hidden layer has 10 units with sigmoid activation, and the output layer has one unit with None activation.\n",
    "    4.2 Train the network by calling the train function using the training set: lr = 0.001, batch_size = 8, epochs = 50\n",
    "    4.3 Plot the loss_hist from the training results\n",
    "    4.4 Evaluate the trained nn by calcualating the MSE and MAE using using both the training and test sets"
   ]
  },
  {
   "cell_type": "markdown",
   "metadata": {},
   "source": [
    "##### 4.1 and 4.2 create and train the nn. 5 points"
   ]
  },
  {
   "cell_type": "code",
   "execution_count": 7,
   "metadata": {
    "scrolled": true,
    "tags": []
   },
   "outputs": [
    {
     "name": "stdout",
     "output_type": "stream",
     "text": [
      "Epoch 1/50, Loss: 1.2419\n",
      "Epoch 2/50, Loss: 0.2677\n",
      "Epoch 3/50, Loss: 0.3173\n",
      "Epoch 4/50, Loss: 0.4972\n",
      "Epoch 5/50, Loss: 0.3721\n",
      "Epoch 6/50, Loss: 0.4380\n",
      "Epoch 7/50, Loss: 0.3607\n",
      "Epoch 8/50, Loss: 0.1691\n",
      "Epoch 9/50, Loss: 0.3897\n",
      "Epoch 10/50, Loss: 0.3622\n",
      "Epoch 11/50, Loss: 0.8631\n",
      "Epoch 12/50, Loss: 0.2604\n",
      "Epoch 13/50, Loss: 0.4319\n",
      "Epoch 14/50, Loss: 0.5170\n",
      "Epoch 15/50, Loss: 0.5569\n",
      "Epoch 16/50, Loss: 0.2079\n",
      "Epoch 17/50, Loss: 0.1663\n",
      "Epoch 18/50, Loss: 0.2602\n",
      "Epoch 19/50, Loss: 0.5072\n",
      "Epoch 20/50, Loss: 0.7069\n",
      "Epoch 21/50, Loss: 0.2571\n",
      "Epoch 22/50, Loss: 0.3193\n",
      "Epoch 23/50, Loss: 0.3781\n",
      "Epoch 24/50, Loss: 0.1341\n",
      "Epoch 25/50, Loss: 0.2906\n",
      "Epoch 26/50, Loss: 0.4210\n",
      "Epoch 27/50, Loss: 0.4730\n",
      "Epoch 28/50, Loss: 0.1027\n",
      "Epoch 29/50, Loss: 0.2330\n",
      "Epoch 30/50, Loss: 0.5119\n",
      "Epoch 31/50, Loss: 0.3153\n",
      "Epoch 32/50, Loss: 0.2654\n",
      "Epoch 33/50, Loss: 0.3301\n",
      "Epoch 34/50, Loss: 0.4297\n",
      "Epoch 35/50, Loss: 0.4227\n",
      "Epoch 36/50, Loss: 0.3354\n",
      "Epoch 37/50, Loss: 0.6587\n",
      "Epoch 38/50, Loss: 0.2319\n",
      "Epoch 39/50, Loss: 0.2460\n",
      "Epoch 40/50, Loss: 0.2220\n",
      "Epoch 41/50, Loss: 0.1101\n",
      "Epoch 42/50, Loss: 0.3680\n",
      "Epoch 43/50, Loss: 0.3186\n",
      "Epoch 44/50, Loss: 0.3186\n",
      "Epoch 45/50, Loss: 0.4142\n",
      "Epoch 46/50, Loss: 0.1794\n",
      "Epoch 47/50, Loss: 0.3272\n",
      "Epoch 48/50, Loss: 0.6612\n",
      "Epoch 49/50, Loss: 0.2533\n",
      "Epoch 50/50, Loss: 0.3531\n"
     ]
    }
   ],
   "source": [
    "#add your code here--\n",
    "\n",
    "nn = NeuralNetwork()\n",
    "nn.add(units=10, input_dim=X_train.shape[1], activation='sigmoid')  # Hidden layer\n",
    "nn.add(units=1, input_dim=10, activation=None)  # Output layer\n",
    "\n",
    "loss_hist = nn.train(inputs=X_train, targets=y_train, lr=0.001, batch_size=8, epochs=50)\n",
    "\n",
    "#------------------"
   ]
  },
  {
   "cell_type": "markdown",
   "metadata": {},
   "source": [
    "##### 4.3 Plot the loss_hist. 5 points"
   ]
  },
  {
   "cell_type": "code",
   "execution_count": 8,
   "metadata": {
    "tags": []
   },
   "outputs": [
    {
     "data": {
      "image/png": "[encoded data removed]",
      "text/plain": [
       "<Figure size 1000x600 with 1 Axes>"
      ]
     },
     "metadata": {},
     "output_type": "display_data"
    }
   ],
   "source": [
    "#add your code here--\n",
    "\n",
    "plt.figure(figsize=(10, 6))\n",
    "plt.plot(loss_hist, label='Loss')\n",
    "plt.title('Loss History')\n",
    "plt.xlabel('Epochs')\n",
    "plt.ylabel('Loss')\n",
    "plt.legend()\n",
    "plt.grid()\n",
    "plt.show()\n",
    "\n",
    "#------------------"
   ]
  },
  {
   "cell_type": "markdown",
   "metadata": {},
   "source": [
    "##### 4.4 Evaluate the trained nn by calcualating the MSE and MAE using using both the training and test sets. 10 points"
   ]
  },
  {
   "cell_type": "code",
   "execution_count": 9,
   "metadata": {
    "tags": []
   },
   "outputs": [
    {
     "name": "stdout",
     "output_type": "stream",
     "text": [
      "Training MSE: 0.7618, Training MAE: 0.6529\n",
      "Test MSE: 0.8017, Test MAE: 0.6816\n"
     ]
    }
   ],
   "source": [
    "#add your code here--\n",
    "\n",
    "def evaluate_model(model, X, y):\n",
    "    y_pred = model.predict(X)\n",
    "    \n",
    "    mse = np.mean((y_pred - y) ** 2)\n",
    "    \n",
    "    mae = np.mean(np.abs(y_pred - y))\n",
    "    \n",
    "    return mse, mae\n",
    "\n",
    "train_mse, train_mae = evaluate_model(nn, X_train, y_train)\n",
    "print(f'Training MSE: {train_mse:.4f}, Training MAE: {train_mae:.4f}')\n",
    "\n",
    "test_mse, test_mae = evaluate_model(nn, X_test, y_test)\n",
    "print(f'Test MSE: {test_mse:.4f}, Test MAE: {test_mae:.4f}')\n",
    "\n",
    "#------------------"
   ]
  },
  {
   "cell_type": "markdown",
   "metadata": {},
   "source": [
    "#### Task 5(Optional): Students get 10 extra points for getting better test performance using \n",
    "    1)different hyperparameters(batch size, lr, and epochs) and/or \n",
    "    2)nn design, e.g., different number of hidden nodes, different number of hidden layers, different activation functions"
   ]
  },
  {
   "cell_type": "code",
   "execution_count": 13,
   "metadata": {
    "tags": []
   },
   "outputs": [],
   "source": [
    "#add your code here--\n",
    "\n",
    "#------------------"
   ]
  },
  {
   "cell_type": "code",
   "execution_count": null,
   "metadata": {},
   "outputs": [],
   "source": []
  }
 ],
 "metadata": {
  "kernelspec": {
   "display_name": "Python 3 (ipykernel)",
   "language": "python",
   "name": "python3"
  },
  "language_info": {
   "codemirror_mode": {
    "name": "ipython",
    "version": 3
   },
   "file_extension": ".py",
   "mimetype": "text/x-python",
   "name": "python",
   "nbconvert_exporter": "python",
   "pygments_lexer": "ipython3",
   "version": "3.12.4"
  }
 },
 "nbformat": 4,
 "nbformat_minor": 4
}
